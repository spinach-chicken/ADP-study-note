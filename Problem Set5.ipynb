{
 "cells": [
  {
   "cell_type": "markdown",
   "id": "1e530f30",
   "metadata": {},
   "source": [
    "# 31회 ADP 복원 "
   ]
  },
  {
   "cell_type": "markdown",
   "id": "d0c9251b",
   "metadata": {},
   "source": [
    "# 기계학습 (60점)"
   ]
  },
  {
   "cell_type": "markdown",
   "id": "435ce658",
   "metadata": {},
   "source": [
    "## 데이터 설명\n",
    "- 데이터 출처 : https://www.kaggle.com/datasets/mandysia/obesity-dataset-cleaned-and-data-sinthetic 후처리\n",
    "- 데이터 링크 : https://raw.githubusercontent.com/Datamanim/datarepo/main/adp/31/adp_31_1_obesity_v2.csv\n",
    "- 데이터 설명 : 각 환자의 의료정보이다. NObeyesdad를 종속변수로 하는 분류모델을 만드려고 한다.\n",
    "\n",
    "\n",
    "    id: unique id for each row    \n",
    "    Gender: sex - male or female    \n",
    "    Age: age    \n",
    "    Height: height    \n",
    "    Weight: weight    \n",
    "    family_history_with_overweight: Has a family member suffered or suffers f from overweight? - yes or no    \n",
    "    FAVC: Frequent consumption of high caloric food - yes or no     \n",
    "    FCVC: Frequency of consumption of vegetables - Never, Sometimes, Always    \n",
    "    NCP: Number of main meals - 1, 2, 3, 4     \n",
    "    CAEC: Consumption of food between meals - No, Sometimes, Frequently, Always    \n",
    "    SMOKE: Do you smoke - yes o no    \n",
    "    CH2O: Consumption of water daily - Less than a litter, between 1 and 2 l, more than 2 l    \n",
    "    SCC: Calories consumption monitoring - yes or no   \n",
    "    FAF: Physical activity frequency - 0, 1 to 2, 2 to 4, 4 to 5     \n",
    "    TUE: Time using technology devices - 0 to 2, 3 to 5, >5    \n",
    "    CALC: Consumption of alcohol - no, sometimes, frequently, always    \n",
    "    MTRANS: Transportation used - automobile, motorbike, bike, public_transportation, walking    \n",
    "    BMI: Body mass index\n",
    "    \n",
    "    (종속변수)     \n",
    "    NObeyesdad: Type of obesity - overweight-level_i, obesity_type_i, obesity_type_ii, obesity_type_iii"
   ]
  },
  {
   "cell_type": "code",
   "execution_count": 1,
   "id": "90707774",
   "metadata": {},
   "outputs": [],
   "source": [
    "import pandas as pd\n",
    "import numpy as np\n",
    "import seaborn as sns\n",
    "import matplotlib.pyplot as plt"
   ]
  },
  {
   "cell_type": "markdown",
   "id": "c9373a22",
   "metadata": {},
   "source": [
    "## 1-1  EDA & 결측치 및 이상치를 판단하고 설명하라"
   ]
  },
  {
   "cell_type": "code",
   "execution_count": 119,
   "id": "363b1389",
   "metadata": {
    "scrolled": false
   },
   "outputs": [
    {
     "name": "stdout",
     "output_type": "stream",
     "text": [
      "Age\n",
      "      Gender  Age    Height  Weight family_history_with_overweight FAVC  \\\n",
      "2       male   41  1.800000      99                             no  yes   \n",
      "5     female   52  1.690000      87                            yes  yes   \n",
      "16      male   55  1.780000      84                            yes   no   \n",
      "17    female   38  1.560000      80                            yes  yes   \n",
      "26      male   44  1.600000      80                            yes   no   \n",
      "...      ...  ...       ...     ...                            ...  ...   \n",
      "926     male   37  1.762921     118                            yes  yes   \n",
      "927     male   38  1.752863     119                            yes  yes   \n",
      "928     male   39  1.768235     118                            yes  yes   \n",
      "929     male   38  1.766888     118                            yes  yes   \n",
      "1193  female  150  1.686033     105                            yes  yes   \n",
      "\n",
      "           FCVC  NCP        CAEC SMOKE               CH2O  SCC     FAF  \\\n",
      "2     sometimes    3   sometimes    no  between 1 and 2 l   no  2 to 4   \n",
      "5        always    1   sometimes   yes  between 1 and 2 l   no       0   \n",
      "16       always    4  frequently    no      more than 2 l  yes  4 to 5   \n",
      "17    sometimes    3   sometimes    no  between 1 and 2 l   no       0   \n",
      "26    sometimes    3   sometimes   yes      more than 2 l   no       0   \n",
      "...         ...  ...         ...   ...                ...  ...     ...   \n",
      "926   sometimes    3   sometimes    no  between 1 and 2 l   no  1 to 2   \n",
      "927   sometimes    3   sometimes    no  between 1 and 2 l   no  1 to 2   \n",
      "928   sometimes    3   sometimes    no  between 1 and 2 l   no  1 to 2   \n",
      "929   sometimes    3   sometimes    no  between 1 and 2 l   no  1 to 2   \n",
      "1193     always    3   sometimes    no  less than a liter   no       0   \n",
      "\n",
      "         TUE        CALC                 MTRANS        BMI          NObeyesdad  \n",
      "2     3 to 5  frequently             automobile  30.555556      obesity_type_i  \n",
      "5     0 to 2          no             automobile  30.461118      obesity_type_i  \n",
      "16    0 to 2  frequently                walking  26.511804  overweight_level_i  \n",
      "17    0 to 2   sometimes             automobile  32.873110      obesity_type_i  \n",
      "26    0 to 2          no              motorbike  31.250000      obesity_type_i  \n",
      "...      ...         ...                    ...        ...                 ...  \n",
      "926   0 to 2   sometimes             automobile  38.097141     obesity_type_ii  \n",
      "927   3 to 5   sometimes             automobile  38.795883     obesity_type_ii  \n",
      "928   0 to 2   sometimes             automobile  37.673574     obesity_type_ii  \n",
      "929   0 to 2   sometimes             automobile  37.840788     obesity_type_ii  \n",
      "1193  3 to 5   sometimes  public_transportation  36.856473    obesity_type_iii  \n",
      "\n",
      "[117 rows x 18 columns]\n",
      "Height\n",
      "Empty DataFrame\n",
      "Columns: [Gender, Age, Height, Weight, family_history_with_overweight, FAVC, FCVC, NCP, CAEC, SMOKE, CH2O, SCC, FAF, TUE, CALC, MTRANS, BMI, NObeyesdad]\n",
      "Index: []\n",
      "Weight\n",
      "   Gender  Age  Height  Weight family_history_with_overweight FAVC    FCVC  \\\n",
      "85   male   18    1.87     173                            yes  yes  always   \n",
      "\n",
      "    NCP        CAEC SMOKE               CH2O SCC     FAF     TUE       CALC  \\\n",
      "85    3  frequently    no  between 1 and 2 l  no  2 to 4  3 to 5  sometimes   \n",
      "\n",
      "                   MTRANS       BMI        NObeyesdad  \n",
      "85  public_transportation  49.47239  obesity_type_iii  \n",
      "BMI\n",
      "Empty DataFrame\n",
      "Columns: [Gender, Age, Height, Weight, family_history_with_overweight, FAVC, FCVC, NCP, CAEC, SMOKE, CH2O, SCC, FAF, TUE, CALC, MTRANS, BMI, NObeyesdad]\n",
      "Index: []\n",
      "분석에 상관없는 칼럼을 제거해준다.\n",
      "총 독립변수는 16개로 수치형 변수 4개 범주형 변수 12개이다.\n",
      "범주형 변수에서는 주어진 범주를 벗어난 값이 관측되지 않는다.\n",
      "IQR 사용시 Age 칼럼에서 이상치가 100건 넘게 관측되는데 이는 Age = 150인 이상치 들이 다량 포함되어 있어서 그런것으로 판단된다.\n",
      "Weight에서는 1개의 이상치가 관측되었으며 Height와 BMI에서는 이상치가 관측되지 않았다.\n",
      "이상치들을 제거해 주었고 SCC칼럼에서 결측치가 3건 관측되어 최빈값으로 대체해 주었다.\n"
     ]
    },
    {
     "data": {
      "image/png": "[encoded data removed]",
      "text/plain": [
       "<Figure size 1080x1080 with 16 Axes>"
      ]
     },
     "metadata": {
      "needs_background": "light"
     },
     "output_type": "display_data"
    }
   ],
   "source": [
    "data = pd.read_csv('https://raw.githubusercontent.com/Datamanim/datarepo/main/adp/31/adp_31_1_obesity_v2.csv')\n",
    "data = data.iloc[:,2:] #분석에 필요없는 칼럼 제거\n",
    "data.columns.to_list()\n",
    "data = data[['Gender','Age','Height','Weight','family_history_with_overweight','FAVC','FCVC','NCP','CAEC','SMOKE','CH2O','SCC','FAF','TUE','CALC','MTRANS', 'BMI','NObeyesdad']]\n",
    "\n",
    "null = data.isna().sum().to_frame().T\n",
    "null.index = ['결측치수']\n",
    "unique = data.nunique().to_frame().T\n",
    "unique.index = ['유니크수']\n",
    "types = data.dtypes.to_frame().T\n",
    "types.index = ['타입']\n",
    "df = pd.concat([null, unique, types])\n",
    "\n",
    "\n",
    "fig, axes = plt.subplots(4,4, figsize = (15,15))\n",
    "\n",
    "for i, ax in enumerate(axes.flat[:]):\n",
    "    n_col_name = data.columns[i]\n",
    "    target = data[[n_col_name, 'NObeyesdad',]]\n",
    "    \n",
    "    if n_col_name in ['Age', 'Weight', 'Height', 'BMI']:\n",
    "        sns.barplot(data = target, x = n_col_name, y = 'NObeyesdad', ax=ax)\n",
    "    else:\n",
    "        sns.stripplot(data = target, x = n_col_name, y = 'NObeyesdad', ax=ax)\n",
    "        \n",
    "        \n",
    "#IQR을 이용해 이상치 판단\n",
    "for j in ['Age','Height', 'Weight', 'BMI']:\n",
    "    first_quantile = data['%s'%j].quantile(0.25)\n",
    "    third_quantile = data['%s'%j].quantile(0.75)\n",
    "    IQR = third_quantile - first_quantile\n",
    "    outliers = data[(data['%s'%j]>third_quantile + 1.5*IQR) | (data['%s'%j]<first_quantile - 1.5*IQR)]\n",
    "    print(j)\n",
    "    print(outliers)\n",
    "    \n",
    "#Age칼럼에서 IQR이용시 이상치 과다검출 Age = 150인건들 때문에 과다검출된것으로 판단\n",
    "outliers_age = data[data['Age'] > 100]\n",
    "outliers_weight = data[data['Weight'] == 184]\n",
    "outliers_to_drop = pd.concat((outliers_age, outliers_weight))\n",
    "\n",
    "drop_outliers = data.drop(index = outliers_to_drop.index)\n",
    "\n",
    "#SCC칼럼에 결측치 3건 존재 최빈값으로 대체\n",
    "data_pre = drop_outliers.copy()\n",
    "data_pre['SCC'] = data_pre.SCC.fillna(data_pre.SCC.mode())\n",
    "\n",
    "\n",
    "print('분석에 상관없는 칼럼을 제거해준다.')\n",
    "print('총 독립변수는 16개로 수치형 변수 4개 범주형 변수 12개이다.')\n",
    "print('범주형 변수에서는 주어진 범주를 벗어난 값이 관측되지 않는다.')\n",
    "print('IQR 사용시 Age 칼럼에서 이상치가 100건 넘게 관측되는데 이는 Age = 150인 이상치 들이 다량 포함되어 있어서 그런것으로 판단된다.')\n",
    "print('Weight에서는 1개의 이상치가 관측되었으며 Height와 BMI에서는 이상치가 관측되지 않았다.')\n",
    "print('이상치들을 제거해 주었고 SCC칼럼에서 결측치가 3건 관측되어 최빈값으로 대체해 주었다.')"
   ]
  },
  {
   "cell_type": "markdown",
   "id": "cdd7b70a",
   "metadata": {},
   "source": [
    "## 1-2 데이터 전처리 기법 2가지를 설명하고 주어진 데이터에 적용시 어떤 효과가 있는지 설명하라"
   ]
  },
  {
   "cell_type": "code",
   "execution_count": 42,
   "id": "2bf785d4",
   "metadata": {},
   "outputs": [
    {
     "name": "stdout",
     "output_type": "stream",
     "text": [
      "범주형 데이터들중 불균형한 칼럼이 다수 이를 완화해주기 위해 두가지 방법을 제시해본다.\n",
      "1)언더샘플링\n",
      "한 칼럼에서 샘플의 수가 많은 값을 수가 적은 값에 맞게 수를 줄여 샘플링한다.\n",
      "과적합을 줄일수 있지만 주어진 데이터 셋에서 수가 많은 값이 월등히 많아 데이터의 많은 양이 소실될것이라 예상된다.\n",
      "2)오버샘플링\n",
      "한 칼럼에서 샘플의 수가 적은 값을 수가 많은 값에 맞게 수를 늘려 샘플링한다.\n",
      "데이터의 소실없이 사용할수 있지만 과적합이 발생할 수 있다. SMOTE방식이 대표적인 예이다.\n"
     ]
    }
   ],
   "source": [
    "print('범주형 데이터들중 불균형한 칼럼이 다수 이를 완화해주기 위해 두가지 방법을 제시해본다.')\n",
    "print('1)언더샘플링\\n한 칼럼에서 샘플의 수가 많은 값을 수가 적은 값에 맞게 수를 줄여 샘플링한다.')\n",
    "print('과적합을 줄일수 있지만 주어진 데이터 셋에서 수가 많은 값이 월등히 많아 데이터의 많은 양이 소실될것이라 예상된다.')\n",
    "print('2)오버샘플링\\n한 칼럼에서 샘플의 수가 적은 값을 수가 많은 값에 맞게 수를 늘려 샘플링한다.')\n",
    "print('데이터의 소실없이 사용할수 있지만 과적합이 발생할 수 있다. SMOTE방식이 대표적인 예이다.')"
   ]
  },
  {
   "cell_type": "markdown",
   "id": "98cb5ad0",
   "metadata": {},
   "source": [
    "## 1-3 피쳐 엔지니어링을 통해 파생변수 1개를 생성하고 그 이유를 말하라"
   ]
  },
  {
   "cell_type": "code",
   "execution_count": 120,
   "id": "0fcebf96",
   "metadata": {
    "scrolled": true
   },
   "outputs": [
    {
     "name": "stdout",
     "output_type": "stream",
     "text": [
      "CALC변수를 새로운 2진 변수로 변환\n"
     ]
    }
   ],
   "source": [
    "data_pre['CALC'] = data_pre.CALC.apply(lambda x : 'yes' if x in ['frequently', 'sometimes'] else 'no')\n",
    "\n",
    "print('CALC변수를 새로운 2진 변수로 변환')"
   ]
  },
  {
   "cell_type": "markdown",
   "id": "2f91d43c",
   "metadata": {},
   "source": [
    "## 2-1 앙상블을 제외한 분류 모델 3가지 구축 및 결과 비교 및 설명하라"
   ]
  },
  {
   "cell_type": "code",
   "execution_count": 138,
   "id": "764130e2",
   "metadata": {},
   "outputs": [],
   "source": [
    "import warnings\n",
    "warnings.filterwarnings(action='ignore')"
   ]
  },
  {
   "cell_type": "code",
   "execution_count": 164,
   "id": "4a1f7bdc",
   "metadata": {
    "scrolled": false
   },
   "outputs": [
    {
     "name": "stdout",
     "output_type": "stream",
     "text": [
      "로지스틱\n",
      "[[101   4   0   0]\n",
      " [  0  89   0   0]\n",
      " [  0   0  97   0]\n",
      " [  0   0   0  87]]\n",
      "0.9896511255734557\n",
      "KNN\n",
      "[[97  7  0  1]\n",
      " [ 0 89  0  0]\n",
      " [ 0  0 97  0]\n",
      " [ 6  0  0 81]]\n",
      "0.9633585878778187\n",
      "의사결정나무\n",
      "[[102   3   0   0]\n",
      " [  0  89   0   0]\n",
      " [  0   0  97   0]\n",
      " [  0   0   0  87]]\n",
      "0.9922331651853631\n",
      "로지스틱, KNN, 의사결정나무 3가지 모델을 구축하였다.\n",
      "세 모델 모두 유사한 결과가 나왔고 f1 score는 의사결정나무, 로지스틱, KNN순으로 높았다.\n"
     ]
    }
   ],
   "source": [
    "from sklearn.preprocessing import OneHotEncoder, OrdinalEncoder, StandardScaler\n",
    "from sklearn.model_selection import train_test_split\n",
    "from sklearn.pipeline import Pipeline\n",
    "from sklearn.compose import ColumnTransformer\n",
    "from sklearn.linear_model import LogisticRegression\n",
    "from sklearn.neighbors import KNeighborsClassifier\n",
    "from sklearn.tree import DecisionTreeClassifier\n",
    "from sklearn.metrics import confusion_matrix, accuracy_score, precision_score, recall_score, f1_score\n",
    "\n",
    "x = data_pre.iloc[:,:-1]\n",
    "y = data_pre.iloc[:,-1]\n",
    "\n",
    "ordEN = OrdinalEncoder()\n",
    "y = ordEN.fit_transform(y.to_frame())\n",
    "\n",
    "x_train, x_test, y_train, y_test = train_test_split(x, y,  test_size=0.3, random_state=2024, stratify=y)\n",
    "\n",
    "num_col = ['Age', 'Height', 'Weight', 'BMI', 'NCP']\n",
    "cat_col = ['Gender', 'family_history_with_overweight', 'FAVC', 'FCVC', 'CAEC', 'SMOKE', 'CH2O', 'SCC', 'FAF', 'TUE', 'CALC', 'MTRANS']\n",
    "\n",
    "pipeline = ColumnTransformer([('num', StandardScaler(), num_col), ('cat', OneHotEncoder(), cat_col)])\n",
    "x_train_pre = pipeline.fit_transform(x_train)\n",
    "x_test_pre = pipeline.transform(x_test)\n",
    "\n",
    "model1 = LogisticRegression(random_state=2024)\n",
    "model2 = KNeighborsClassifier()\n",
    "model3 = DecisionTreeClassifier(max_depth = 5, random_state = 38)\n",
    "\n",
    "model1.fit(x_train_pre, y_train)\n",
    "model2.fit(x_train_pre, y_train)\n",
    "model3.fit(x_train_pre, y_train)\n",
    "\n",
    "y_pred1 = model1.predict(x_test_pre)\n",
    "y_pred2 = model2.predict(x_test_pre)\n",
    "y_pred3 = model3.predict(x_test_pre)\n",
    "\n",
    "print('로지스틱')\n",
    "print(confusion_matrix(y_test, y_pred1))\n",
    "print(f1_score(y_test, y_pred1, average = 'macro'))\n",
    "print('KNN')\n",
    "print(confusion_matrix(y_test, y_pred2))\n",
    "print(f1_score(y_test, y_pred2, average = 'macro'))\n",
    "print('의사결정나무')\n",
    "print(confusion_matrix(y_test, y_pred3))\n",
    "print(f1_score(y_test, y_pred3, average = 'macro'))\n",
    "print('로지스틱, KNN, 의사결정나무 3가지 모델을 구축하였다.')\n",
    "print('세 모델 모두 유사한 결과가 나왔고 f1 score는 의사결정나무, 로지스틱, KNN순으로 높았다.')"
   ]
  },
  {
   "cell_type": "markdown",
   "id": "660d2818",
   "metadata": {},
   "source": [
    "## 2-2 2-1에서 사용한 모델 중 하나를 골라 그리드 서치를 통해서 파라미터 튜닝 및 분류 모델 성능 평가 (precision ,recall)"
   ]
  },
  {
   "cell_type": "code",
   "execution_count": 168,
   "id": "3c0a2e3e",
   "metadata": {},
   "outputs": [
    {
     "name": "stdout",
     "output_type": "stream",
     "text": [
      "f1 score가 가장높았던 의사결정나무로 하이퍼파라미터튜닝진행\n",
      "그 결과는 다음과 같다\n",
      "precision score: 0.9536973443223443\n",
      "recall score: 0.9483413590155163\n"
     ]
    }
   ],
   "source": [
    "from sklearn.model_selection import GridSearchCV\n",
    "\n",
    "param = {'criterion':['gini', 'entropy'], 'max_depth':[3,5,7,10], 'max_features':['auto', 'sqrt', 'log2'], 'min_samples_leaf':[1,2,3,4,5]}\n",
    "grid = GridSearchCV(DecisionTreeClassifier(random_state=38), param, cv=5)\n",
    "grid.fit(x_train_pre, y_train)\n",
    "grid.best_params_\n",
    "best_model = grid.best_estimator_\n",
    "y_pred_best = best_model.predict(x_test_pre)\n",
    "\n",
    "precision = precision_score(y_test, y_pred_best, average = 'macro')\n",
    "recall = recall_score(y_test, y_pred_best, average = 'macro')\n",
    "\n",
    "print('f1 score가 가장높았던 의사결정나무로 하이퍼파라미터튜닝진행')\n",
    "print('그 결과는 다음과 같다')\n",
    "print('precision score:', precision)\n",
    "print('recall score:', recall)"
   ]
  },
  {
   "cell_type": "markdown",
   "id": "26ec3f77",
   "metadata": {},
   "source": [
    "## 2-3 2-1의 3가지 모델을 soft voting을 이용하여 모델링 한 결과와 2-2과 비교하라"
   ]
  },
  {
   "cell_type": "code",
   "execution_count": null,
   "id": "fe2e9e3d",
   "metadata": {},
   "outputs": [],
   "source": []
  },
  {
   "cell_type": "markdown",
   "id": "11a855de",
   "metadata": {},
   "source": [
    "## 3-2 하나의 모델을 선정하여 Drop Column Importance 방식으로 각 변수 별로 전체 컬럼을 포함한 모델과의 recall 값의 차이를 계산하고 시각화 하라"
   ]
  },
  {
   "cell_type": "code",
   "execution_count": null,
   "id": "9bc83885",
   "metadata": {},
   "outputs": [],
   "source": []
  },
  {
   "cell_type": "markdown",
   "id": "bf0b1e49",
   "metadata": {},
   "source": [
    "## 데이터 설명\n",
    "- 데이터 출처 : 자체제작\n",
    "- 데이터 링크 : https://raw.githubusercontent.com/Datamanim/datarepo/main/adp/31/adp_31_2_v2.csv\n",
    "- 데이터 설명 : 중고등학생 건강검진 데이터"
   ]
  },
  {
   "cell_type": "markdown",
   "id": "4e4fe7ae",
   "metadata": {},
   "source": [
    "## 4-1 아래의 기준으로 전처리를 하여 적정 체중 여부 컬럼을 생성하고 BMI를 5단위로 구분하여 와 적정 체중여부에 대한 빈도 표를 만들어라\n",
    " \n",
    "> bmi 계산\n",
    "    - Bmi = 몸무게(kg)/(키(m)**2)   \n",
    "\n",
    "> 만나이 구하기\n",
    "    - 건강검진을 받았던 날을 기준으로 생년월일과 일수 차이가 16년 364일 이하인 경우 만 16세 그 이상의 경우 만 17로 분류하라\n",
    "    - 윤년 등은 고려하지 않는다. 햇수로 16년 + 일수로 364일이 기준이다\n",
    "\n",
    "\n",
    "> 적정 체중 여부 (BMI가 아래 구간에 들어올 경우)     \n",
    "    17세 남자 : 21.03이상 23.21 미만   \n",
    "    17세 여자 : 20.03이상 22.39 미만    \n",
    "    16세 남자 : 21.18이상 23.45 미만   \n",
    "    16세 여자 : 19.61이상 21.74 미만       "
   ]
  },
  {
   "cell_type": "code",
   "execution_count": 208,
   "id": "bd826283",
   "metadata": {
    "scrolled": true
   },
   "outputs": [
    {
     "data": {
      "text/html": [
       "<div>\n",
       "<style scoped>\n",
       "    .dataframe tbody tr th:only-of-type {\n",
       "        vertical-align: middle;\n",
       "    }\n",
       "\n",
       "    .dataframe tbody tr th {\n",
       "        vertical-align: top;\n",
       "    }\n",
       "\n",
       "    .dataframe thead th {\n",
       "        text-align: right;\n",
       "    }\n",
       "</style>\n",
       "<table border=\"1\" class=\"dataframe\">\n",
       "  <thead>\n",
       "    <tr style=\"text-align: right;\">\n",
       "      <th>적정체중여부</th>\n",
       "      <th>비적정 체중</th>\n",
       "      <th>적정 체중</th>\n",
       "    </tr>\n",
       "    <tr>\n",
       "      <th>BMI구간</th>\n",
       "      <th></th>\n",
       "      <th></th>\n",
       "    </tr>\n",
       "  </thead>\n",
       "  <tbody>\n",
       "    <tr>\n",
       "      <th>1.21미만</th>\n",
       "      <td>1359</td>\n",
       "      <td>1268</td>\n",
       "    </tr>\n",
       "    <tr>\n",
       "      <th>2.21이상 22미만</th>\n",
       "      <td>78</td>\n",
       "      <td>1602</td>\n",
       "    </tr>\n",
       "    <tr>\n",
       "      <th>3.22이상 23미만</th>\n",
       "      <td>319</td>\n",
       "      <td>910</td>\n",
       "    </tr>\n",
       "    <tr>\n",
       "      <th>4.23이상 24미만</th>\n",
       "      <td>511</td>\n",
       "      <td>220</td>\n",
       "    </tr>\n",
       "    <tr>\n",
       "      <th>5.24이상</th>\n",
       "      <td>534</td>\n",
       "      <td>0</td>\n",
       "    </tr>\n",
       "  </tbody>\n",
       "</table>\n",
       "</div>"
      ],
      "text/plain": [
       "적정체중여부       비적정 체중  적정 체중\n",
       "BMI구간                     \n",
       "1.21미만         1359   1268\n",
       "2.21이상 22미만      78   1602\n",
       "3.22이상 23미만     319    910\n",
       "4.23이상 24미만     511    220\n",
       "5.24이상          534      0"
      ]
     },
     "execution_count": 208,
     "metadata": {},
     "output_type": "execute_result"
    }
   ],
   "source": [
    "from datetime import datetime as dt\n",
    "BMI = pd.read_csv('https://raw.githubusercontent.com/Datamanim/datarepo/main/adp/31/adp_31_2_v2.csv')\n",
    "\n",
    "BMI['생년월일'] = BMI.생년월일.apply(lambda x : dt.strptime(str(x),'%Y%m%d'))\n",
    "BMI['건강검진일'] = BMI.건강검진일.str.replace(\"_\",\"\")\n",
    "BMI['건강검진일'] = BMI.건강검진일.apply(lambda x : dt.strptime(x,'%Y%m%d'))\n",
    "BMI['출생이후일수'] = BMI['건강검진일'] - BMI['생년월일']\n",
    "BMI['출생이후일수'] = BMI['출생이후일수'].dt.days\n",
    "BMI['연령'] = BMI['출생이후일수']//365\n",
    "\n",
    "BMI['구분'] = BMI['연령'].astype('str') + '세 ' + BMI['성별']\n",
    "BMI['BMI지수'] = BMI['weight']/((BMI['키']/100)**2)\n",
    " \n",
    "df = pd.DataFrame(columns = ['적정체중여부'])   \n",
    "l = []\n",
    "for i in range(len(BMI['구분'])):\n",
    "    x = BMI.구분[i]\n",
    "    y = BMI.BMI지수[i]\n",
    "    if x == '17세 남성':\n",
    "        if y>=21.03 and y<23.23:\n",
    "            result =  '적정 체중'\n",
    "        else:\n",
    "            result =  '비적정 체중'\n",
    "    elif x == '17세 여성':\n",
    "        if y>=20.03 and y<22.39:\n",
    "            result ='적정 체중'\n",
    "        else:\n",
    "            result ='비적정 체중'\n",
    "    elif x == '16세 남성':\n",
    "        if y>=21.18 and y<23.45:\n",
    "            result = '적정 체중'\n",
    "        else:\n",
    "            result = '비적정 체중'\n",
    "    elif x == '16세 여성':\n",
    "        if y>=19.61 and y<21.74:\n",
    "            result ='적정 체중'\n",
    "        else:\n",
    "            result = '비적정 체중'\n",
    "    l.append(result)\n",
    "        \n",
    "df['적정체중여부'] = l\n",
    "BMI = pd.concat((BMI, df), axis =1)\n",
    "\n",
    "def func(x):\n",
    "    if x < 21:\n",
    "        return '1.21미만'\n",
    "    elif x < 22:\n",
    "        return '2.21이상 22미만'\n",
    "    elif x < 23:\n",
    "        return '3.22이상 23미만'\n",
    "    elif x < 24:\n",
    "        return '4.23이상 24미만'\n",
    "    else:\n",
    "        return '5.24이상'\n",
    "\n",
    "BMI['BMI구간'] = BMI.BMI지수.apply(func)\n",
    "pd.crosstab(BMI['BMI구간'], BMI['적정체중여부'])"
   ]
  },
  {
   "cell_type": "markdown",
   "id": "e4725c76",
   "metadata": {},
   "source": [
    "## 4-2 4-1에서 구한 적정 체중 여부와 나머지 컬럼(공학여부, 아침식사여부, 일주일운동시간, 채소섭취정도, 수면시간, 성별) 이 독립적인지 통계적으로 확인하라"
   ]
  },
  {
   "cell_type": "code",
   "execution_count": 215,
   "id": "0e4742b3",
   "metadata": {
    "scrolled": true
   },
   "outputs": [
    {
     "name": "stdout",
     "output_type": "stream",
     "text": [
      "공학여부\n",
      "Chi square: 4.860026391400316\n",
      "P-value: 0.027485915660578324\n",
      "채소섭취정도\n",
      "Chi square: 9.76921205430376\n",
      "P-value: 0.044499993586240155\n",
      "아침식사여부\n",
      "Chi square: 0.1707349590815312\n",
      "P-value: 0.6794594506703198\n",
      "성별\n",
      "Chi square: 0.06009186079559394\n",
      "P-value: 0.8063508096689858\n",
      "일주일운동시간\n",
      "Chi square: 114.92776637824015\n",
      "P-value: 0.13068520174673007\n",
      "수면시간\n",
      "Chi square: 47.092026617195444\n",
      "P-value: 0.5507932849937132\n",
      "유의수준 0.05하에서 공학여부와 채소섭취정도만이 독립적이다.\n"
     ]
    }
   ],
   "source": [
    "from scipy.stats import chi2_contingency\n",
    "\n",
    "BMI_copy = BMI[['공학여부', '채소섭취정도', '아침식사여부', '일주일운동시간', '수면시간', '성별', '적정체중여부']]\n",
    "\n",
    "for i in ['공학여부', '채소섭취정도', '아침식사여부', '성별','일주일운동시간', '수면시간']:\n",
    "    obs = pd.crosstab(BMI_copy[i], BMI_copy['적정체중여부'])\n",
    "    chiresult = chi2_contingency(obs)\n",
    "    print(i)\n",
    "    print('Chi square: {}'.format(chiresult[0]))\n",
    "    print('P-value: {}'.format(chiresult[1]))\n",
    "\n",
    "print('유의수준 0.05하에서 공학여부와 채소섭취정도만이 독립적이다.')"
   ]
  },
  {
   "cell_type": "markdown",
   "id": "8979641c",
   "metadata": {},
   "source": [
    "## 4-3 4-2에서 유의한 변수들만 가지고 적정 체중 여부를 예측하는 모델을 구현하고 성능 평가 및 해석을 하라 (로지스틱회귀 ,xgb)\n",
    "> 로지스틱회귀 모델은 오즈비를 구하라\n",
    "> xgb의 경우 각 피쳐중요도를 확인하고 예측에 영향을 가장 미치는 변수를 확인하라"
   ]
  },
  {
   "cell_type": "code",
   "execution_count": null,
   "id": "47894af7",
   "metadata": {},
   "outputs": [],
   "source": []
  },
  {
   "cell_type": "markdown",
   "id": "d30b8589",
   "metadata": {},
   "source": [
    "## 4-4 4-3 두 모델의 roc-auc 그래프를 하나의 그래프에 겹쳐 그려라"
   ]
  },
  {
   "cell_type": "code",
   "execution_count": null,
   "id": "530b6171",
   "metadata": {},
   "outputs": [],
   "source": []
  },
  {
   "cell_type": "markdown",
   "id": "526e7015",
   "metadata": {},
   "source": [
    "# 통계 (40점)"
   ]
  },
  {
   "cell_type": "markdown",
   "id": "9da92811",
   "metadata": {},
   "source": [
    "## 5. 평균이 $\\theta$이고 분산이 100인 정규분포의 사전분포가 100, 256일때 120의 값을 가지는 데이터가 있을 경우 사후평균은? (5점)\n",
    "무게가 N($\\theta$, 100)인 정규분포에서, 사전분포는 N(100, 256)이다. 제품의 무게가 120kg일 때, 사후분포의 평균을 구하라"
   ]
  },
  {
   "cell_type": "code",
   "execution_count": 274,
   "id": "207d3c80",
   "metadata": {},
   "outputs": [
    {
     "name": "stdout",
     "output_type": "stream",
     "text": [
      "사전분포가 평균이 mu1, 분산이 v1인 정규분포를 따르고 무게가 평균이 mu2, 분산이 v2인정규분포를 따를때 사후평균은 다음과 같다.\n",
      "(mu2*v1+mu1*v2)/(v1+v2)\n",
      "따라서 사후평균은 114.38202247191012이다.\n"
     ]
    }
   ],
   "source": [
    "mu = (100*100 + 256*120)/(100+256)\n",
    "print('사전분포가 평균이 mu1, 분산이 v1인 정규분포를 따르고 무게가 평균이 mu2, 분산이 v2인정규분포를 따를때 사후평균은 다음과 같다.')\n",
    "print('(mu2*v1+mu1*v2)/(v1+v2)')\n",
    "print('따라서 사후평균은 {}이다.'.format(mu))"
   ]
  },
  {
   "cell_type": "markdown",
   "id": "46d0923d",
   "metadata": {},
   "source": [
    "## 데이터 설명\n",
    "- 데이터 출처 : https://www.kaggle.com/datasets/yasserh/advertising-sales-dataset 후처리\n",
    "- 데이터 링크 : https://raw.githubusercontent.com/Datamanim/datarepo/main/adp/31/adp_31_5_advertising.csv\n",
    "- 데이터 설명 : TV, Radio, Newspaper에 각각 광고비(달러)를 다르게 했을때 매출액 (Sales , 밀리언달러)를 나타내는 데이터\n",
    "- 종속변수 : Sales"
   ]
  },
  {
   "cell_type": "code",
   "execution_count": 217,
   "id": "f35e2c9c",
   "metadata": {},
   "outputs": [
    {
     "data": {
      "text/html": [
       "<div>\n",
       "<style scoped>\n",
       "    .dataframe tbody tr th:only-of-type {\n",
       "        vertical-align: middle;\n",
       "    }\n",
       "\n",
       "    .dataframe tbody tr th {\n",
       "        vertical-align: top;\n",
       "    }\n",
       "\n",
       "    .dataframe thead th {\n",
       "        text-align: right;\n",
       "    }\n",
       "</style>\n",
       "<table border=\"1\" class=\"dataframe\">\n",
       "  <thead>\n",
       "    <tr style=\"text-align: right;\">\n",
       "      <th></th>\n",
       "      <th>TV</th>\n",
       "      <th>Radio</th>\n",
       "      <th>Newspaper</th>\n",
       "      <th>Sales</th>\n",
       "    </tr>\n",
       "  </thead>\n",
       "  <tbody>\n",
       "    <tr>\n",
       "      <th>0</th>\n",
       "      <td>230.1</td>\n",
       "      <td>37.8</td>\n",
       "      <td>69.2</td>\n",
       "      <td>22.1</td>\n",
       "    </tr>\n",
       "    <tr>\n",
       "      <th>1</th>\n",
       "      <td>44.5</td>\n",
       "      <td>39.3</td>\n",
       "      <td>45.1</td>\n",
       "      <td>10.4</td>\n",
       "    </tr>\n",
       "    <tr>\n",
       "      <th>2</th>\n",
       "      <td>17.2</td>\n",
       "      <td>45.9</td>\n",
       "      <td>69.3</td>\n",
       "      <td>12.0</td>\n",
       "    </tr>\n",
       "    <tr>\n",
       "      <th>3</th>\n",
       "      <td>151.5</td>\n",
       "      <td>41.3</td>\n",
       "      <td>58.5</td>\n",
       "      <td>16.5</td>\n",
       "    </tr>\n",
       "    <tr>\n",
       "      <th>4</th>\n",
       "      <td>180.8</td>\n",
       "      <td>10.8</td>\n",
       "      <td>58.4</td>\n",
       "      <td>17.9</td>\n",
       "    </tr>\n",
       "    <tr>\n",
       "      <th>...</th>\n",
       "      <td>...</td>\n",
       "      <td>...</td>\n",
       "      <td>...</td>\n",
       "      <td>...</td>\n",
       "    </tr>\n",
       "    <tr>\n",
       "      <th>195</th>\n",
       "      <td>38.2</td>\n",
       "      <td>3.7</td>\n",
       "      <td>13.8</td>\n",
       "      <td>7.6</td>\n",
       "    </tr>\n",
       "    <tr>\n",
       "      <th>196</th>\n",
       "      <td>94.2</td>\n",
       "      <td>4.9</td>\n",
       "      <td>8.1</td>\n",
       "      <td>14.0</td>\n",
       "    </tr>\n",
       "    <tr>\n",
       "      <th>197</th>\n",
       "      <td>177.0</td>\n",
       "      <td>9.3</td>\n",
       "      <td>6.4</td>\n",
       "      <td>14.8</td>\n",
       "    </tr>\n",
       "    <tr>\n",
       "      <th>198</th>\n",
       "      <td>283.6</td>\n",
       "      <td>42.0</td>\n",
       "      <td>66.2</td>\n",
       "      <td>25.5</td>\n",
       "    </tr>\n",
       "    <tr>\n",
       "      <th>199</th>\n",
       "      <td>232.1</td>\n",
       "      <td>8.6</td>\n",
       "      <td>8.7</td>\n",
       "      <td>18.4</td>\n",
       "    </tr>\n",
       "  </tbody>\n",
       "</table>\n",
       "<p>200 rows × 4 columns</p>\n",
       "</div>"
      ],
      "text/plain": [
       "        TV  Radio  Newspaper  Sales\n",
       "0    230.1   37.8       69.2   22.1\n",
       "1     44.5   39.3       45.1   10.4\n",
       "2     17.2   45.9       69.3   12.0\n",
       "3    151.5   41.3       58.5   16.5\n",
       "4    180.8   10.8       58.4   17.9\n",
       "..     ...    ...        ...    ...\n",
       "195   38.2    3.7       13.8    7.6\n",
       "196   94.2    4.9        8.1   14.0\n",
       "197  177.0    9.3        6.4   14.8\n",
       "198  283.6   42.0       66.2   25.5\n",
       "199  232.1    8.6        8.7   18.4\n",
       "\n",
       "[200 rows x 4 columns]"
      ]
     },
     "execution_count": 217,
     "metadata": {},
     "output_type": "execute_result"
    }
   ],
   "source": [
    "data_ols = pd.read_csv('https://raw.githubusercontent.com/Datamanim/datarepo/main/adp/31/adp_31_5_advertising.csv')\n",
    "data_ols"
   ]
  },
  {
   "cell_type": "markdown",
   "id": "20f8b71f",
   "metadata": {},
   "source": [
    "## 6-1 회귀 모델링 후 유의하지 않는변수 파악 (15점)"
   ]
  },
  {
   "cell_type": "code",
   "execution_count": 221,
   "id": "f4077ebc",
   "metadata": {},
   "outputs": [
    {
     "name": "stdout",
     "output_type": "stream",
     "text": [
      "                            OLS Regression Results                            \n",
      "==============================================================================\n",
      "Dep. Variable:                  Sales   R-squared:                       0.903\n",
      "Model:                            OLS   Adj. R-squared:                  0.901\n",
      "Method:                 Least Squares   F-statistic:                     605.4\n",
      "Date:                Sat, 02 Mar 2024   Prob (F-statistic):           8.13e-99\n",
      "Time:                        15:39:34   Log-Likelihood:                -383.34\n",
      "No. Observations:                 200   AIC:                             774.7\n",
      "Df Residuals:                     196   BIC:                             787.9\n",
      "Df Model:                           3                                         \n",
      "Covariance Type:            nonrobust                                         \n",
      "==============================================================================\n",
      "                 coef    std err          t      P>|t|      [0.025      0.975]\n",
      "------------------------------------------------------------------------------\n",
      "Intercept      4.6251      0.308     15.041      0.000       4.019       5.232\n",
      "TV             0.0544      0.001     39.592      0.000       0.052       0.057\n",
      "Radio          0.1070      0.008     12.604      0.000       0.090       0.124\n",
      "Newspaper      0.0003      0.006      0.058      0.954      -0.011       0.012\n",
      "==============================================================================\n",
      "Omnibus:                       16.081   Durbin-Watson:                   2.251\n",
      "Prob(Omnibus):                  0.000   Jarque-Bera (JB):               27.655\n",
      "Skew:                          -0.431   Prob(JB):                     9.88e-07\n",
      "Kurtosis:                       4.605   Cond. No.                         454.\n",
      "==============================================================================\n",
      "\n",
      "Notes:\n",
      "[1] Standard Errors assume that the covariance matrix of the errors is correctly specified.\n",
      "Newspaper의 p-value는 0.954로 유의하지 않은 변수로 판단.\n"
     ]
    }
   ],
   "source": [
    "from statsmodels.formula.api import ols\n",
    "\n",
    "data_ols = pd.read_csv('https://raw.githubusercontent.com/Datamanim/datarepo/main/adp/31/adp_31_5_advertising.csv')\n",
    "model = ols(formula = 'Sales ~ TV + Radio + Newspaper',data = data_ols).fit()\n",
    "print(model.summary())\n",
    "print('Newspaper의 p-value는 0.954로 유의하지 않은 변수로 판단.')"
   ]
  },
  {
   "cell_type": "markdown",
   "id": "a3a3f23b",
   "metadata": {},
   "source": [
    "## 6-2 변수 선택시 먼저 제거 될 변수 및 근거 제시"
   ]
  },
  {
   "cell_type": "code",
   "execution_count": 222,
   "id": "cc35387d",
   "metadata": {},
   "outputs": [
    {
     "name": "stdout",
     "output_type": "stream",
     "text": [
      "Newspaper의 p-value는 0.954로 상당히 높아 제일 먼저 제거될 변수로 예측할수 있다.\n"
     ]
    }
   ],
   "source": [
    "print('Newspaper의 p-value는 0.954로 상당히 높아 제일 먼저 제거될 변수로 예측할수 있다.')"
   ]
  },
  {
   "cell_type": "markdown",
   "id": "b8167183",
   "metadata": {},
   "source": [
    "## 6-3 VIF를 통한 다중공선성 진단"
   ]
  },
  {
   "cell_type": "code",
   "execution_count": 232,
   "id": "6ffb4f72",
   "metadata": {},
   "outputs": [
    {
     "name": "stdout",
     "output_type": "stream",
     "text": [
      "   VIF Factor   features\n",
      "0    2.486772         TV\n",
      "1    3.285462      Radio\n",
      "2    3.055245  Newspaper\n",
      "TV의 VIF가 10이상으로 다중공선성이 높다. 회귀분석의 기본가정중 독립성을 위배할 가능성이 높다.\n"
     ]
    }
   ],
   "source": [
    "import statsmodels.api as sm\n",
    "from statsmodels.stats.outliers_influence import variance_inflation_factor\n",
    "\n",
    "data_ols_copy = data_ols.drop('Sales', axis = 1)\n",
    "vif = pd.DataFrame()\n",
    "vif[\"VIF Factor\"] = [variance_inflation_factor(data_ols_copy.values, i) for i in range(data_ols_copy.shape[1])]\n",
    "vif[\"features\"] = data_ols_copy.columns\n",
    "print(vif)\n",
    "print('모든 독립변수의 VIF가 10이하로 다중공선성이 없다고 할 수 있다.'')"
   ]
  },
  {
   "cell_type": "markdown",
   "id": "a481bc78",
   "metadata": {},
   "source": [
    "## 7 (15점)  \n",
    "- 데이터 링크 : https://raw.githubusercontent.com/Datamanim/datarepo/main/adp/31/adp_31_7.csv\n",
    "- 데이터 설명 : A,B,C,D,E 영업사원의 각 계약 성사 유무 (1:계약 , 0:미계약) 를 나타낸 데이터이다. 영업사원의 평균 계약 성사 건수는 같은지 통계 검정하라"
   ]
  },
  {
   "cell_type": "code",
   "execution_count": 256,
   "id": "688c6492",
   "metadata": {
    "scrolled": true
   },
   "outputs": [
    {
     "name": "stdout",
     "output_type": "stream",
     "text": [
      "               df     sum_sq   mean_sq         F    PR(>F)\n",
      "C(variable)   4.0   1.166667  0.291667  1.159639  0.338653\n",
      "Residual     55.0  13.833333  0.251515       NaN       NaN\n",
      "일원분산분석결과 p-value가 0.338653로 귀무가설을 기각하지못한다.\n",
      "즉, 영업사원별로 평균계약건수가 같다고 볼 수 있다.\n"
     ]
    }
   ],
   "source": [
    "import scipy.stats as stats\n",
    "from statsmodels.stats.anova import anova_lm, anova_single\n",
    "\n",
    "cnt = pd.read_csv('https://raw.githubusercontent.com/Datamanim/datarepo/main/adp/31/adp_31_7.csv')\n",
    "cnt_copy = cnt.melt('Unnamed: 0')\n",
    "cnt_copy.rename(columns = {'Unnamed: 0':'contract'})\n",
    "\n",
    "model = ols('value ~ C(variable)', cnt_copy).fit()\n",
    "\n",
    "anova_table = anova_lm(model)\n",
    "print(anova_table)\n",
    "print('일원분산분석결과 p-value가 0.338653로 귀무가설을 기각하지못한다.')\n",
    "print('즉, 영업사원별로 평균계약건수가 같다고 볼 수 있다.')"
   ]
  },
  {
   "cell_type": "markdown",
   "id": "23bc4496",
   "metadata": {},
   "source": [
    "## 8 유기견이 하루에 2.2마리 발생한다 (10점)"
   ]
  },
  {
   "cell_type": "markdown",
   "id": "4fc76499",
   "metadata": {},
   "source": [
    "## 8-1 한 마리도 안 버려질 확률"
   ]
  },
  {
   "cell_type": "code",
   "execution_count": 271,
   "id": "79ec362c",
   "metadata": {},
   "outputs": [
    {
     "name": "stdout",
     "output_type": "stream",
     "text": [
      "1마리도 안 버려질 확률:0.11080315836233387\n"
     ]
    }
   ],
   "source": [
    "from scipy.stats import poisson\n",
    "\n",
    "pois = poisson(mu = 2.2)\n",
    "proba_0 = pois.pmf(0)\n",
    "print('1마리도 안 버려질 확률:{}'.format(proba_0))"
   ]
  },
  {
   "cell_type": "markdown",
   "id": "b3eec6b1",
   "metadata": {},
   "source": [
    "## 8-2 적어도 2마리 버려질 확률"
   ]
  },
  {
   "cell_type": "code",
   "execution_count": 269,
   "id": "d666f6c9",
   "metadata": {
    "scrolled": true
   },
   "outputs": [
    {
     "name": "stdout",
     "output_type": "stream",
     "text": [
      "적어도 2마리 버려질 확률:0.6454298932405316\n"
     ]
    }
   ],
   "source": [
    "proba_least2 = 1 - pois.pmf(0) - pois.pmf(1)\n",
    "print('적어도 2마리 버려질 확률:{}'.format(proba_least2))"
   ]
  }
 ],
 "metadata": {
  "kernelspec": {
   "display_name": "Python 3 (ipykernel)",
   "language": "python",
   "name": "python3"
  },
  "language_info": {
   "codemirror_mode": {
    "name": "ipython",
    "version": 3
   },
   "file_extension": ".py",
   "mimetype": "text/x-python",
   "name": "python",
   "nbconvert_exporter": "python",
   "pygments_lexer": "ipython3",
   "version": "3.9.7"
  }
 },
 "nbformat": 4,
 "nbformat_minor": 5
}
